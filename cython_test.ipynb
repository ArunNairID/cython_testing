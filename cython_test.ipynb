{
 "metadata": {
  "name": "cython_test"
 },
 "nbformat": 3,
 "nbformat_minor": 0,
 "worksheets": [
  {
   "cells": [
    {
     "cell_type": "markdown",
     "metadata": {},
     "source": [
      "<style>\n",
      "\n",
      "    div.cell {\n",
      "        \n",
      "        width: 40em;\n",
      "    }\n",
      "\n",
      "   .input_area { \n",
      "        width: 40em;\n",
      "        border: 0px;  \n",
      "        color: #FFFFFF;\n",
      "    }\n",
      "\n",
      "    .output_area pre {\n",
      "        font-family: \"Source Code Pro\", Consolas, monospace;\n",
      "        border: 0px;\n",
      "    }\n",
      "\n",
      "    div.output_text {\n",
      "        font-family: \"Source Code Pro\", Consolas, monospace; \n",
      "    }\n",
      "\n",
      "    div.text_cell {\n",
      "        width: 35em;\n",
      "        text-align: left;\n",
      "    }\n",
      "    \n",
      "    div.prompt {\n",
      "        width: 120px;\n",
      "    }\n",
      "    div.input_prompt {\n",
      "        visibility: hidden;\n",
      "    }\n",
      "    div.input {\n",
      "         margin-left: 120px;\n",
      "\n",
      "    div.text_cell_render {\n",
      "        font-family: \"Minion Pro\", \"Charis SIL\", Palatino, serif;\n",
      "        font-size: 14pt;\n",
      "        line-height: 145%;\n",
      "        width: 35em;\n",
      "        text-align: left;\n",
      "    }\n",
      "\n",
      "    div.text_cell_render h1 {\n",
      "        display: block;\n",
      "        font-size: 28pt;\n",
      "        color: #3B3B3B;\n",
      "        margin-bottom: -0.5em;\n",
      "        margin-top: 0.5em;\n",
      "        \n",
      "    }\n",
      "\n",
      "    div.text_cell_render h2:before {\n",
      "        content: \"\\2FFA\";\n",
      "        margin-right: 0.5em;\n",
      "        font-size: .5em;\n",
      "        vertical-align: baseline;\n",
      "        border-top: 1px;\n",
      "\n",
      "    }\n",
      "\n",
      "    .hiterm {\n",
      "        font-weight: 500;\n",
      "        color: #DC143C;\n",
      "    }\n",
      "\n",
      "    div.text_cell_render h2 {\n",
      "        font-size: 20pt;\n",
      "        margin-bottom: -0.5em;\n",
      "        margin-top: 0.5em;\n",
      "        display: block;\n",
      "        color: #3B3B3B;\n",
      "    }\n",
      "\n",
      "    .MathJax_Display {\n",
      "        /*text-align: center !important;*/\n",
      "        margin-left: 2em !important;\n",
      "        margin-top: .5em !important;\n",
      "        margin-bottom: .5em !important;\n",
      "    }\n",
      "\n",
      "    div.text_cell_render h3 {\n",
      "        font-size: 14pt;\n",
      "        font-weight: 600;\n",
      "        font-style: italic;\n",
      "        margin-bottom: -0.5em;\n",
      "        margin-top: -0.25em;\n",
      "        color: #3B3B3B;\n",
      "        text-indent: 2em;\n",
      "    }\n",
      "\n",
      "    div.text_cell_render h5 {\n",
      "        font-weight: 300;\n",
      "        font-size: 14pt;\n",
      "        color: #4057A1;\n",
      "        font-style: italic;\n",
      "        margin-bottom: .5em;\n",
      "        margin-top: 0.5em;\n",
      "        display: block;\n",
      "        #color: #3B3B3B;\n",
      "    }\n",
      "    \n",
      "    .CodeMirror {\n",
      "        font-family: \"Source Code Pro\", Consolas, monospace;\n",
      "        font-size: 10pt;\n",
      "        background:  #fffffe; /* #f0f8fb #e2eef9*/\n",
      "        border: 0px;\n",
      "    }\n",
      "    \n",
      "    .rendered_html {\n",
      "        margin-left: 120px;\n",
      "        \n",
      "    }\n",
      "\n",
      "    .rendered_html code {\n",
      "        font-family: \"Source Code Pro\", Consolas, monospace;\n",
      "        font-size: 90%;\n",
      "    }\n",
      "\n",
      "    .rendered_html p {\n",
      "        text-align: left;\n",
      "        color: #3B3B3B;\n",
      "        margin-bottom: .5em;\n",
      "\n",
      "    }\n",
      "\n",
      "       .rendered_html p+p { \n",
      "          text-indent: 1em;\n",
      "           margin-top: 0;\n",
      "       }\n",
      "    .rendered_html ol {\n",
      "        list-style: decimal;\n",
      "        /*margin: 1em 2em;*/\n",
      "    }\n",
      "\n",
      "    .rendered_html ol ol {\n",
      "        list-style: decimal;\n",
      "    }\n",
      "\n",
      "    .rendered_html ol ol ol {\n",
      "        list-style: decimal;\n",
      "    }\n",
      "\n",
      "    body{background-color:#f3f3f3;}\n",
      "\n",
      "    .rendered_html p.hangpar {\n",
      "        text-indent: 0;\n",
      "    }\n",
      "\n",
      "</style>\n",
      "<script type=\"text/javascript\" src=\"//use.typekit.net/glz2cja.js\"></script>\n",
      "<script type=\"text/javascript\">try{Typekit.load();}catch(e){}</script>"
     ]
    },
    {
     "cell_type": "heading",
     "level": 1,
     "metadata": {},
     "source": [
      "Some Linear Algebra with Cython"
     ]
    },
    {
     "cell_type": "markdown",
     "metadata": {},
     "source": [
      "by *Carl Vogel*"
     ]
    },
    {
     "cell_type": "heading",
     "level": 2,
     "metadata": {},
     "source": [
      "Introduction (Attention Conservation Notice)"
     ]
    },
    {
     "cell_type": "markdown",
     "metadata": {},
     "source": [
      "This notebook contains information that is new and useful. But the parts that are new are not useful, and the parts that are useful are not new. "
     ]
    },
    {
     "cell_type": "heading",
     "level": 2,
     "metadata": {},
     "source": [
      "A linear system"
     ]
    },
    {
     "cell_type": "markdown",
     "metadata": {},
     "source": [
      "Our goal is to understand and, if possible, solve the system of $n$ linear equations\n",
      "\n",
      "$$\n",
      "\\begin{align}\n",
      "a_{00}\\,x_0 + a_{01}\\,x_1 + \\ldots + a_{0,n-1}\\,x_{n-1}   &= b_0 \\\\\\\n",
      "a_{10}\\,x_0  + a_{11}\\,x_1 + \\ldots + a_{1,n-1}\\,x_{n-1}   &= b_1 \\\\\\\n",
      "\\vdots &  \\\\\\\n",
      "a_{n-1,0}\\,x_0 + a_{n-1,1}\\,x_1 + \\ldots + a_{n-1,n-1}\\,x_{n-1} &= b_{n-1}\\ .\n",
      "\\end{align}\n",
      "$$\n",
      "\n",
      "In the system, the $a_{ij}$s and $b_i$s are known, while the $x_i$s are the unkown variables we wish to solve for. In other words, <span class=\"hiterm\">solving</span> the system means finding the values for the $x_i$s using the $a_{ij}$s and $b_i$s. \n",
      "\n",
      "Using matrix notation, we can write the system as\n",
      "\n",
      "$$\n",
      "\\begin{pmatrix}\n",
      "a_{00} & a_{01} & \\ldots & a_{0,n-1} \\\\\\\n",
      "a_{10} & a_{11} & \\ldots & a_{1,n-1} \\\\\\\n",
      "\\vdots &  &   \\ddots & \\vdots \\\\\\\n",
      "a_{n-1,0} & a_{n-1,1} & \\ldots & a_{n-1,n-1}\n",
      "\\end{pmatrix} \\,\n",
      "\\begin{pmatrix} x_0 \\\\\\ x_1 \\\\\\ \\vdots \\\\\\ x_{n-1}\\end{pmatrix}\n",
      "=\n",
      "\\begin{pmatrix} b_0 \\\\\\ b_1 \\\\\\ \\vdots \\\\\\ b_{n-1}\\end{pmatrix}\\ \n",
      "$$\n",
      "\n",
      "<p class = \"hangpar\">or $Ax = b$. In this form, a solution to the system is the vector $x$ that satisfies the equation.</p>\n",
      "\n",
      "\n",
      "\n",
      "\n"
     ]
    },
    {
     "cell_type": "markdown",
     "metadata": {},
     "source": [
      "----------------"
     ]
    },
    {
     "cell_type": "heading",
     "level": 5,
     "metadata": {},
     "source": [
      "Example: Matrix multiplication in Cython"
     ]
    },
    {
     "cell_type": "code",
     "collapsed": false,
     "input": [
      "%load_ext cythonmagic\n",
      "%pylab inline\n",
      "import math\n",
      "import numpy as np"
     ],
     "language": "python",
     "metadata": {
      "slideshow": {
       "slide_type": "-"
      }
     },
     "outputs": [
      {
       "output_type": "stream",
       "stream": "stdout",
       "text": [
        "The cythonmagic extension is already loaded. To reload it, use:\n",
        "  %reload_ext cythonmagic\n",
        "\n",
        "Welcome to pylab, a matplotlib-based Python environment [backend: module://IPython.kernel.zmq.pylab.backend_inline].\n",
        "For more information, type 'help(pylab)'."
       ]
      },
      {
       "output_type": "stream",
       "stream": "stdout",
       "text": [
        "\n"
       ]
      }
     ],
     "prompt_number": 9
    },
    {
     "cell_type": "code",
     "collapsed": false,
     "input": [
      "%%cython\n",
      "cimport cython\n",
      "import numpy as np\n",
      "cimport numpy as np\n",
      "\n",
      "def matprod(A, B):\n",
      "    if A.ndim == 2:\n",
      "        if B.ndim == 1:\n",
      "            return matvecprod(A, B)\n",
      "        if B.ndim == 2:\n",
      "            return matmatprod(A, B)\n",
      "    elif B.ndim == 2:\n",
      "        if A.ndim == 1:\n",
      "\n",
      "@cython.boundscheck(False)\n",
      "@cython.wraparound(False)\n",
      "cpdef np.ndarray[double, ndim=2] matmatmult(\n",
      "    np.ndarray[double, ndim=2] A,\n",
      "    np.ndarray[double, ndim=2] B):\n",
      "    \n",
      "    cdef: \n",
      "        int i, j, k\n",
      "        int A_n = A.shape[0]\n",
      "        int A_m = A.shape[1]\n",
      "        int B_n = B.shape[0]\n",
      "        int B_m = B.shape[1]\n",
      "        np.ndarray[double, ndim=2] C\n",
      "    \n",
      "    # Are matrices conformable?\n",
      "    assert A_m == B_n, \\\n",
      "        'Non-conformable shapes.'\n",
      "    \n",
      "    # Initialize the results matrix.\n",
      "    C = np.zeros((A_n, B_m))\n",
      "    for i in xrange(A_n):\n",
      "        for j in xrange(B_m):\n",
      "            for k in xrange(A_m):\n",
      "                C[i, j] += A[i, k] * B[k, j]\n",
      "    return C\n",
      "\n",
      "@cython.boundscheck(False)\n",
      "@cython.wraparound(False)\n",
      "cpdef np.ndarray[double, ndim=1] matvecmult(\n",
      "    np.ndarray[double, ndim=2] A,\n",
      "    np.ndarray[double, ndim=1] b):\n",
      "    \n",
      "    cdef: \n",
      "        Py_ssize_t i, j, k\n",
      "        Py_ssize_t A_n = A.shape[0]\n",
      "        Py_ssize_t A_m = A.shape[1]\n",
      "        Py_ssize_t b_n = b.shape[0]\n",
      "        np.ndarray[double, ndim=1] c\n",
      "    \n",
      "    # Are matrices conformable?\n",
      "    assert A_m == b_n, \\\n",
      "        'Non-conformable shapes.'\n",
      "    \n",
      "    # Initialize the results matrix.\n",
      "    c = np.zeros(A_n)\n",
      "    for i in xrange(A_n):\n",
      "            for k in xrange(b_n):\n",
      "                c[i] += A[i, k] * b[k]\n",
      "    return c"
     ],
     "language": "python",
     "metadata": {},
     "outputs": [],
     "prompt_number": 93
    },
    {
     "cell_type": "code",
     "collapsed": false,
     "input": [
      "def pymatmatmult(A, B):\n",
      "    A_n, A_m = A.shape\n",
      "    B_n, B_m = B.shape\n",
      "    assert A_m == B_n, \"Non-conformable shapes.\"\n",
      "    C = np.zeros((A_n, B_m))\n",
      "    for i in xrange(A_n):\n",
      "        for j in xrange(B_m):\n",
      "            for k in xrange(A_m):\n",
      "                C[i, j] += A[i, k] * B[k, j]\n",
      "    return C"
     ],
     "language": "python",
     "metadata": {},
     "outputs": [],
     "prompt_number": 94
    },
    {
     "cell_type": "code",
     "collapsed": false,
     "input": [
      "# A is 2x3\n",
      "A = np.array([[2.0, 0.25, -1.0], \n",
      "              [3.0, 0.0 ,  5.0]])\n",
      "# B is 3x2\n",
      "B = np.array([[-3.0,  0.5], \n",
      "              [ 2.0,  1.5], \n",
      "              [ 4.0, -4.0]])\n",
      "# C is 2x2\n",
      "C = np.array([[1.0,  1.5], \n",
      "              [2.5, -1.0]])\n",
      "# b is 3x1 (a vector)\n",
      "b = np.array([1.0, -2.0, 0.5])\n",
      "# c is 2x1\n",
      "c = np.array([-1.0, 1.0])"
     ],
     "language": "python",
     "metadata": {},
     "outputs": [],
     "prompt_number": 95
    },
    {
     "cell_type": "code",
     "collapsed": false,
     "input": [
      "print 'Cython:'\n",
      "print '-------'\n",
      "print \"A x B =\\n\", matmatmult(A, B), \"\\n\"\n",
      "print \"A x b =\\n\", matvecmult(A, b), \"\\n\"\n",
      "print 'Numpy dot:'\n",
      "print '----------'\n",
      "print \"A x B =\\n\", np.dot(A, B), \"\\n\"\n",
      "print \"A x b =\\n\", np.dot(A, b), \"\\n\"\n",
      "print 'Python loops:'\n",
      "print '-------------'\n",
      "print \"A x B =\\n\", pymatmatmult(A, B), \"\\n\""
     ],
     "language": "python",
     "metadata": {},
     "outputs": [
      {
       "output_type": "stream",
       "stream": "stdout",
       "text": [
        "Cython:\n",
        "-------\n",
        "A x B =\n",
        "[[ -9.5     5.375]\n",
        " [ 11.    -18.5  ]] \n",
        "\n",
        "A x b =\n",
        "[ 1.   5.5] \n",
        "\n",
        "Numpy dot:\n",
        "----------\n",
        "A x B =\n",
        "[[ -9.5     5.375]\n",
        " [ 11.    -18.5  ]] \n",
        "\n",
        "A x b =\n",
        "[ 1.   5.5] \n",
        "\n",
        "Python loops:\n",
        "-------------\n",
        "A x B =\n",
        "[[ -9.5     5.375]\n",
        " [ 11.    -18.5  ]] \n",
        "\n"
       ]
      }
     ],
     "prompt_number": 96
    },
    {
     "cell_type": "code",
     "collapsed": false,
     "input": [
      "# Non-comformable matrices\n",
      "print matmatmult(A, C) "
     ],
     "language": "python",
     "metadata": {},
     "outputs": [
      {
       "ename": "AssertionError",
       "evalue": "Non-conformable shapes.",
       "output_type": "pyerr",
       "traceback": [
        "\u001b[0;31m---------------------------------------------------------------------------\u001b[0m\n\u001b[0;31mAssertionError\u001b[0m                            Traceback (most recent call last)",
        "\u001b[0;32m<ipython-input-100-03358a99095a>\u001b[0m in \u001b[0;36m<module>\u001b[0;34m()\u001b[0m\n\u001b[1;32m      1\u001b[0m \u001b[0;31m# Non-comformable matrices\u001b[0m\u001b[0;34m\u001b[0m\u001b[0;34m\u001b[0m\u001b[0m\n\u001b[0;32m----> 2\u001b[0;31m \u001b[0;32mprint\u001b[0m \u001b[0mmatmatmult\u001b[0m\u001b[0;34m(\u001b[0m\u001b[0mA\u001b[0m\u001b[0;34m,\u001b[0m \u001b[0mC\u001b[0m\u001b[0;34m)\u001b[0m\u001b[0;34m\u001b[0m\u001b[0m\n\u001b[0m",
        "\u001b[0;32m/Users/cvogel/.ipython/cython/_cython_magic_f7e63bb688f8a026b85204b92431612b.so\u001b[0m in \u001b[0;36m_cython_magic_f7e63bb688f8a026b85204b92431612b.matmatmult (/Users/cvogel/.ipython/cython/_cython_magic_f7e63bb688f8a026b85204b92431612b.c:1414)\u001b[0;34m()\u001b[0m\n",
        "\u001b[0;32m/Users/cvogel/.ipython/cython/_cython_magic_f7e63bb688f8a026b85204b92431612b.so\u001b[0m in \u001b[0;36m_cython_magic_f7e63bb688f8a026b85204b92431612b.matmatmult (/Users/cvogel/.ipython/cython/_cython_magic_f7e63bb688f8a026b85204b92431612b.c:1164)\u001b[0;34m()\u001b[0m\n",
        "\u001b[0;31mAssertionError\u001b[0m: Non-conformable shapes."
       ]
      }
     ],
     "prompt_number": 100
    },
    {
     "cell_type": "code",
     "collapsed": false,
     "input": [
      "# Non-conformable matrices\n",
      "print matvecmult(A, c)"
     ],
     "language": "python",
     "metadata": {},
     "outputs": [
      {
       "ename": "AssertionError",
       "evalue": "Non-conformable shapes.",
       "output_type": "pyerr",
       "traceback": [
        "\u001b[0;31m---------------------------------------------------------------------------\u001b[0m\n\u001b[0;31mAssertionError\u001b[0m                            Traceback (most recent call last)",
        "\u001b[0;32m<ipython-input-101-433c35b9dbbb>\u001b[0m in \u001b[0;36m<module>\u001b[0;34m()\u001b[0m\n\u001b[1;32m      1\u001b[0m \u001b[0;31m# Non-conformable matrices\u001b[0m\u001b[0;34m\u001b[0m\u001b[0;34m\u001b[0m\u001b[0m\n\u001b[0;32m----> 2\u001b[0;31m \u001b[0;32mprint\u001b[0m \u001b[0mmatvecmult\u001b[0m\u001b[0;34m(\u001b[0m\u001b[0mA\u001b[0m\u001b[0;34m,\u001b[0m \u001b[0mc\u001b[0m\u001b[0;34m)\u001b[0m\u001b[0;34m\u001b[0m\u001b[0m\n\u001b[0m",
        "\u001b[0;32m/Users/cvogel/.ipython/cython/_cython_magic_f7e63bb688f8a026b85204b92431612b.so\u001b[0m in \u001b[0;36m_cython_magic_f7e63bb688f8a026b85204b92431612b.matvecmult (/Users/cvogel/.ipython/cython/_cython_magic_f7e63bb688f8a026b85204b92431612b.c:1767)\u001b[0;34m()\u001b[0m\n",
        "\u001b[0;32m/Users/cvogel/.ipython/cython/_cython_magic_f7e63bb688f8a026b85204b92431612b.so\u001b[0m in \u001b[0;36m_cython_magic_f7e63bb688f8a026b85204b92431612b.matvecmult (/Users/cvogel/.ipython/cython/_cython_magic_f7e63bb688f8a026b85204b92431612b.c:1545)\u001b[0;34m()\u001b[0m\n",
        "\u001b[0;31mAssertionError\u001b[0m: Non-conformable shapes."
       ]
      }
     ],
     "prompt_number": 101
    },
    {
     "cell_type": "code",
     "collapsed": false,
     "input": [
      "%timeit np.dot(A, B)"
     ],
     "language": "python",
     "metadata": {},
     "outputs": [
      {
       "output_type": "stream",
       "stream": "stdout",
       "text": [
        "1000000 loops, best of 3: 1.34 \u00b5s per loop\n"
       ]
      }
     ],
     "prompt_number": 102
    },
    {
     "cell_type": "code",
     "collapsed": false,
     "input": [
      "%timeit matmatmult(A, B)"
     ],
     "language": "python",
     "metadata": {},
     "outputs": [
      {
       "output_type": "stream",
       "stream": "stdout",
       "text": [
        "100000 loops, best of 3: 3.81 \u00b5s per loop\n"
       ]
      }
     ],
     "prompt_number": 103
    },
    {
     "cell_type": "code",
     "collapsed": false,
     "input": [
      "%timeit pymatmatmult(A, B)"
     ],
     "language": "python",
     "metadata": {},
     "outputs": [
      {
       "output_type": "stream",
       "stream": "stdout",
       "text": [
        "10000 loops, best of 3: 22.9 \u00b5s per loop\n"
       ]
      }
     ],
     "prompt_number": 104
    },
    {
     "cell_type": "markdown",
     "metadata": {},
     "source": [
      "-----------"
     ]
    },
    {
     "cell_type": "heading",
     "level": 2,
     "metadata": {},
     "source": [
      "Solution by matrix inversion"
     ]
    },
    {
     "cell_type": "markdown",
     "metadata": {},
     "source": [
      "The natural solution to the matrix equation $Ax = b$ is to find the <span class=\"hiterm\">inverse</span> of $A$, denoted $A^{-1}$. $\\ A^{-1}$ is the matrix that has the property $A^{-1}A = I$. Pre-multiplying both sides of the equation will then leave us with the solution $x = A^{-1}b$.\n",
      "\n",
      "It turns out, though, that computing $A^{-1}$ is expensive, and that there are more efficient ways of solving the system. As <a href=\"http://www.johndcook.com/blog/2010/01/19/dont-invert-that-matrix/\" target=\"new\">John Cook</a> says, &#8220;There is hardly ever a good reason to invert a matrix.&#8221; With that advice, we'll not spend effort on writing algorithms for computing matrix inverses.\n",
      "\n",
      "What is useful to know about $A^{-1}$ is that it only exists if the linear system has a unique solution. That is, if there is one and only one $x$ that solves $Ax = b.$ If $A$ has an inverse, it's called <span class=\"hiterm\">nonsingular</span>. \n",
      "\n",
      "Under what circumstances would $A$ *not* have an inverse?\n",
      "If one of the columns in $A$ can be calculated as a linear combination of the other columns, then $A$ will not have an inverse. To have an inverse, $\\,A$&#8217;s columns must be <span class=\"hiterm\">linearly independent</span>. \n",
      "\n",
      "For example, let&#8217;s look at the linear system\n",
      "\n",
      "$$\n",
      "\\begin{pmatrix}\n",
      "2  & 3  &  1 \\\\\n",
      "0.5  & 2  & -1 \\\\\n",
      "-1 & 5 &  -7\n",
      "\\end{pmatrix}\\,\n",
      "\\begin{pmatrix}\n",
      "x_0 \\\\ x_1 \\\\ x_2\n",
      "\\end{pmatrix} =\n",
      "\\begin{pmatrix}\n",
      "10 \\\\ -3 \\\\ 2\n",
      "\\end{pmatrix}\\\n",
      "$$\n",
      "\n",
      "Here the third column, $A_{\\cdot2}$ is equal to $2\\times A_{\\cdot0} - 1\\times A_{\\cdot 1}$, so the columns of this matrix are not linearly independent. This relationship means that $x_2 = 2x_0 - x_1$, so $x_2$ is not an independent variable, and we really only have two variables in three equations. There will be an infinite number of combinations of $x_0$ and $x_1$ that solve the system.\n",
      "\n",
      "When the columns of $A$ are not linearly independent, and $A$ has no inverse, it&#8217;s called <span class=\"hiterm\">singular</span> or <span class=\"hiterm\">degenerate</span>."
     ]
    },
    {
     "cell_type": "heading",
     "level": 2,
     "metadata": {},
     "source": [
      "The determinant of a matrix"
     ]
    },
    {
     "cell_type": "markdown",
     "metadata": {},
     "source": [
      "In the example above, it was easy to see that the columns of the matrix were not linearly independent. For larger matrices, a more reliable method of detecting singular matrices is required.\n",
      "\n",
      "The <span class=\"hiterm\">determinant</span> of a matrix&#8212;a real number denoted $\\det(A)$&#8212;is an attribute of the matrix that can be used to tell whether a matrix is singular, and therefore whether the linear system has a solution.\n",
      "\n",
      "The check is straightforward: when the determinant of a matrix is zero, the matrix is singular, and no solution exists. We can check this with the singular matrix in the example above, using numpy&#8217;s `det` function.\n",
      "    "
     ]
    },
    {
     "cell_type": "code",
     "collapsed": false,
     "input": [
      "A = np.array([[  2, 3,  1],\n",
      "              [0.5, 2, -1],\n",
      "              [ -1, 5, -7]])\n",
      "\n",
      "# A is singular, so it's determinant should be zero.\n",
      "print \"The determinant is\", np.linalg.det(A)"
     ],
     "language": "python",
     "metadata": {},
     "outputs": [
      {
       "output_type": "stream",
       "stream": "stdout",
       "text": [
        "The determinant is 0.0\n"
       ]
      }
     ],
     "prompt_number": 146
    },
    {
     "cell_type": "markdown",
     "metadata": {},
     "source": [
      "    \n",
      "<p></p>    \n",
      "Calculating the determinant, though, is not so easy.\n",
      "    \n",
      "Let&#8217;s start with a trivial definition. We&#8217;ll say that the determinant of a $1\\times1$ matrix $A$ (a scalar), is simply equal to $A$. So, for example, $\\det(4) = 4$.\n",
      "\n",
      "The well-known formula for the determinant of a $2x2$ matrix\n",
      "\n",
      "$$\n",
      "A =\n",
      "\\begin{pmatrix}\n",
      "a & b \\\\\\\n",
      "c & d \n",
      "\\end{pmatrix}\n",
      "$$\n",
      "\n",
      "<p class=\"hangpar\">is $\\det(A) = ad - bc$. We can break this formula down and generalize it to larger matrices.</p>\n",
      "\n",
      "First, let&#8217;s define the $(i, j)$ <span class=\"hiterm\"> minor</span> of $A$, denoted $A_{ij}$ as the matrix that results from removing row $i$ and column $j$ from $A$. For example, the (0, 0) minor of the $2\\times2$ matrix above is:\n",
      "\n",
      "$$\n",
      "\\begin{pmatrix}\n",
      "\\cdot & \\cdot \\\\\\\n",
      "\\cdot & d\n",
      "\\end{pmatrix} = d.\n",
      "$$\n",
      "\n",
      "Similarly the (0, 1) minor is:\n",
      "    \n",
      "$$\n",
      "\\begin{pmatrix}\n",
      "\\cdot & \\cdot \\\\\\\n",
      "c & \\cdot\n",
      "\\end{pmatrix} = c.\n",
      "$$    \n",
      "\n",
      "We can now re-write the formula for the determinant as\n",
      "\n",
      "$$\n",
      "\\det(A) = a_{00}\\det(A_{00}) - a_{01}\\det(A_{01})\\ ,\n",
      "$$\n",
      "\n",
      "<p class=\"hangpar\">since the the minors $A_{0i}, i = 0, 1$ are scalars so are equal to their determinants by our definition above. Even better, we can take care of the minus sign by noting that</p>\n",
      "\n",
      "$$\n",
      "\\det(A) = (-1^0)\\;a_{00}\\det(A_{00}) + (-1^1)\\;a_{01}\\det(A_{01})\\ .\n",
      "$$\n",
      "\n",
      "Everything in this formula can now be generalized to the determinant of an arbitrary $n\\times n$ matrix.\n",
      "\n",
      "$$\n",
      "\\det(A) = \\sum_{i=0}^{n-1}(-1^i)\\;a_{0i}\\det(A_{0i})\n",
      "$$\n",
      "\n",
      "Our choice to move across row 0 of the matrix was arbitrary; we could have chosen to go across any row or down any column of the matrix, as long as we obtained the associated minor and computed the correct sign on each term. For example, we could have used column 2, in which case we would have had:\n",
      "    \n",
      "$$\n",
      "\\det(A) = \\sum_{i=0}^{n-1}(-1^{i+2})\\;a_{i2}\\det(A_{i2})\n",
      "$$\n",
      "\n",
      "This flexibility can often come in handy. For example, if a row or column has a lot of zeros in it, we can exploit that to cut down on the number of calculations needed since terms in the sum get zeroed out.\n",
      "\n",
      "Lastly, notice that these definitions are <span class=\"hiterm\">recursive</span>. That is, to find the determinant of an $n\\times n$ matrix $A$, we have to find the determinants of the $(n-1)\\times(n-1)$ minors $A_{0i}$ (of which there are $n$). To find the determinants of *these* matrices, we have to compute the determinants of their $(n-2)\\times(n-2)$ minors (of which there are $n-1$). So we are now computing $n\\times(n-1)$ determinants of $(n-2)\\times(n-2)$ matrices. This continues all the way down until the minor matrices are scalars, at which point we know the determinants by definition.\n",
      "\n",
      "The recursive equation gives us a simple and elegant way to express all this computation. Furthermore we can write our code using this recursive equation directly, by writing a `determinant` function that calls itself. But as is often the case this elegance comes at a cost, and we&#8217;ll find that this recursive method gets very computationally expensive."
     ]
    },
    {
     "cell_type": "code",
     "collapsed": false,
     "input": [
      "%%cython -lm \n",
      "# Note the lm flag, used to import the C math library.\n",
      "import cython\n",
      "import numpy as np\n",
      "cimport numpy as np\n",
      "# Using C's power function instead of Python, hence the\n",
      "# math library link flag above.\n",
      "from libc.math cimport pow\n",
      "\n",
      "@cython.boundscheck(False)\n",
      "@cython.wraparound(False)\n",
      "cpdef double determinant(double[:, :] M):\n",
      "    '''\n",
      "    Compute the determinant of a square nxn matrix using\n",
      "    the recursive formula:\n",
      " \n",
      "        det(M) = sum_{i=0}^{n-1} (-1^i)*M[0,i]*det(M_minor(0,i))\n",
      "\n",
      "    where M_minor(0,i) is the (n-1)x(n-1) matrix formed by\n",
      "    removing row 0 and column i from M.\n",
      "    '''\n",
      "    \n",
      "    assert M.shape[0] == M.shape[1], 'Matrix is not square.'\n",
      "    \n",
      "    cdef int i, j\n",
      "    cdef int n = M.shape[0]\n",
      "    cdef double det = 0.0\n",
      "    cdef double coef\n",
      "    cdef double[:, :] M_minor = np.empty((n-1, n-1))\n",
      "    \n",
      "    if n == 1:\n",
      "        # If M is a scalar (1x1) just return it\n",
      "        return M[0, 0]\n",
      "    else:\n",
      "        # If M is nxn, then get it's (n-1)x(n-1) minors\n",
      "        # (one for each of M's n columns) and compute \n",
      "        # their determinants and add them to the summation.\n",
      "        for j in xrange(n):\n",
      "            coef = pow(-1, j) * M[0, j]\n",
      "            _get_minor(M, M_minor, 0, j)\n",
      "            det += coef * determinant(M_minor)\n",
      "        return det\n",
      "\n",
      "@cython.boundscheck(False)\n",
      "@cython.wraparound(False)\n",
      "cdef void _get_minor(double[:, :] M, double[:, :] M_minor, \n",
      "                    int row, int col):\n",
      "    '''\n",
      "    Return the minor of a matrix, by removing a specified\n",
      "    row and column\n",
      "\n",
      "    If M is nxn, then _get_minor(M, row, col) will fill in\n",
      "    the (n-1)x(n-1) matrix M_minor by removing row `row` \n",
      "    and column `col` from M.\n",
      "    '''\n",
      "    cdef:\n",
      "        int n = M.shape[0]\n",
      "        int i_to, j_to, i_from, j_from\n",
      "  \n",
      "        \n",
      "    # _from indicates the index of the original\n",
      "    # matrix M, _to, indicates the index of the\n",
      "    # result matrix M_minor.\n",
      "    i_from = 0\n",
      "    for i_to in xrange(n-1):\n",
      "        if (i_to == row): \n",
      "            # This is the row to exclude from the\n",
      "            # minor, so skip it.\n",
      "            i_from += 1\n",
      "        j_from = 0\n",
      "        for j_to in xrange(n-1):\n",
      "            if (j_to == col): \n",
      "            # This is the column to exclude from the\n",
      "            # minor, so skip it.\n",
      "                j_from += 1\n",
      "            \n",
      "            M_minor[i_to, j_to] = M[i_from, j_from]\n",
      "            j_from += 1\n",
      "        \n",
      "        i_from += 1"
     ],
     "language": "python",
     "metadata": {},
     "outputs": [],
     "prompt_number": 453
    },
    {
     "cell_type": "code",
     "collapsed": false,
     "input": [
      "# A is 3x3\n",
      "A = np.array([[ 2, -1,   4],\n",
      "              [-1,  3, 0.5],\n",
      "              [ 5, -9,  11]])\n",
      "\n",
      "print 'Numpy: ', np.linalg.det(A)\n",
      "print 'Cython: ', determinant(A)"
     ],
     "language": "python",
     "metadata": {},
     "outputs": [
      {
       "output_type": "stream",
       "stream": "stdout",
       "text": [
        "Numpy:  37.5\n",
        "Cython:  37.5\n"
       ]
      }
     ],
     "prompt_number": 454
    },
    {
     "cell_type": "code",
     "collapsed": false,
     "input": [
      "%timeit np.linalg.det(A)"
     ],
     "language": "python",
     "metadata": {},
     "outputs": [
      {
       "output_type": "stream",
       "stream": "stdout",
       "text": [
        "10000 loops, best of 3: 59.6 \u00b5s per loop\n"
       ]
      }
     ],
     "prompt_number": 455
    },
    {
     "cell_type": "code",
     "collapsed": false,
     "input": [
      "%timeit determinant(MM)"
     ],
     "language": "python",
     "metadata": {},
     "outputs": [
      {
       "output_type": "stream",
       "stream": "stdout",
       "text": [
        "1000 loops, best of 3: 469 \u00b5s per loop\n"
       ]
      }
     ],
     "prompt_number": 456
    },
    {
     "cell_type": "code",
     "collapsed": false,
     "input": [
      "# B is 10x10\n",
      "B = np.random.randn(100).reshape(10, 10)"
     ],
     "language": "python",
     "metadata": {},
     "outputs": [],
     "prompt_number": 457
    },
    {
     "cell_type": "code",
     "collapsed": false,
     "input": [
      "%timeit np.linalg.det(B)"
     ],
     "language": "python",
     "metadata": {},
     "outputs": [
      {
       "output_type": "stream",
       "stream": "stdout",
       "text": [
        "10000 loops, best of 3: 61.9 \u00b5s per loop\n"
       ]
      }
     ],
     "prompt_number": 458
    },
    {
     "cell_type": "code",
     "collapsed": false,
     "input": [
      "%timeit determinant(B)"
     ],
     "language": "python",
     "metadata": {},
     "outputs": [
      {
       "output_type": "stream",
       "stream": "stdout",
       "text": [
        "1 loops, best of 3: 14.4 s per loop\n"
       ]
      }
     ],
     "prompt_number": 459
    },
    {
     "cell_type": "heading",
     "level": 2,
     "metadata": {},
     "source": [
      "Linear systems with triangular matrices"
     ]
    },
    {
     "cell_type": "markdown",
     "metadata": {},
     "source": [
      "At this point, the elegance of mathematics has been thwarted by the dirty business of computing. We would like to know whether a linear system is solvable, which we can do by calculating it&#8217;s determinant. But the mathematical formula we have derived for it computes terribly. Even if we could compute the determinant and find the system to be solvable, we have been warned against using the algebraically sensible method of matrix inversion to solve it.\n",
      "\n",
      "Let&#8217;s go down a new road. Our system, once more, is:\n",
      "\n",
      "$$\n",
      "\\begin{pmatrix}\n",
      "a_{00} & a_{01} & \\ldots & a_{0,n-1} \\\\\\\n",
      "a_{10} & a_{11} & \\ldots & a_{1,n-1} \\\\\\\n",
      "\\vdots &  &   \\ddots & \\vdots \\\\\\\n",
      "a_{n-1,0} & a_{n-1,1} & \\ldots & a_{n-1,n-1}\n",
      "\\end{pmatrix} \\,\n",
      "\\begin{pmatrix} x_0 \\\\\\ x_1 \\\\\\ \\vdots \\\\\\ x_{n-1}\\end{pmatrix}\n",
      "=\n",
      "\\begin{pmatrix} b_0 \\\\\\ b_1 \\\\\\ \\vdots \\\\\\ b_{n-1}\\end{pmatrix}\\ \n",
      "$$\n",
      "\n",
      "But imagine we could somehow transform this system into:\n",
      "    \n",
      "$$\n",
      "\\begin{pmatrix}\n",
      "l_{00} & 0 & 0 & \\ldots & 0 \\\\\\\n",
      "l_{10} & l_{11} & 0 & \\ldots & 0 \\\\\\\n",
      "\\vdots &  &  & \\ddots & \\vdots\\\\\\\n",
      "l_{n-1,0} & l_{n-1,1} & l_{n-1,2} & \\ldots & l_{n-1,n-1}\n",
      "\\end{pmatrix}\\,\n",
      "\\begin{pmatrix} y_0 \\\\\\ y_1 \\\\\\ \\vdots \\\\\\ y_{n-1}\\end{pmatrix}\n",
      "=\n",
      "\\begin{pmatrix} c_0 \\\\\\ c_1 \\\\\\ \\vdots \\\\\\ c_{n-1}\\end{pmatrix}\\ \n",
      "$$\n",
      "\n",
      "<p class=\"hangpar\">or $Ly = c$. The matrix $L$ is <span class=\"hiterm\">lower triangular</span>, which means all the elements above its diagonal are zero.</p>\n",
      "\n",
      "This is a simple system to solve. The first row gives us the value of $x_0$; once we have that, substituting it into the second row gives us $x_1$. We can then roll this process down to solve for a new variable in each row until we&#8217;ve solve the whole system. This process is called <span class=\"hiterm\">forward substitution</span>. The formula for any $y_i$ in the system above is \n",
      "\n",
      "$$\n",
      "y_i = \\frac{1}{l_{ii}}\\left(c_i - \\sum_{k=0}^{i-1}l_{ik}\\,y_k\\right),\n",
      "$$\n",
      "\n",
      "<p class=\"hangpar\">which only depends on the previous values of $y\\,$: $y_{i-1}, y_{i-2}, \\ldots, y_0$.</p>\n",
      "\n",
      "\n",
      "The process, of course, is just as simple with an <span class=\"hiterm\">upper triangular</span> matrix:\n",
      "    \n",
      "$$\n",
      "\\begin{pmatrix}\n",
      "u_{01} & u_{11} & \\ldots & u_{0, n-2} & u_{0,n-1} \\\\\\\n",
      "0 & u_{11} & \\ldots & u_{1, n-2}& u_{1,n-1} \\\\\\\n",
      "\\vdots &  & \\ddots &  &\\vdots\\\\\\\n",
      "0 & 0 & \\ldots & 0 & u_{n-1,n-1}\n",
      "\\end{pmatrix}\\,\n",
      "\\begin{pmatrix} y_0 \\\\\\ y_1 \\\\\\ \\vdots \\\\\\ y_{n-1}\\end{pmatrix}\n",
      "=\n",
      "\\begin{pmatrix} c_0 \\\\\\ c_1 \\\\\\ \\vdots \\\\\\ c_{n-1}\\end{pmatrix}\\ \n",
      "$$\n",
      "\n",
      "<p class=\"hangpar\">or $Uy = c$. Here we would simply move up the rows, substituting and solving for one new variable each time; a process called, unsurprisingly, <span class=\"hiterm\">backwards substitution</span>.</p>"
     ]
    },
    {
     "cell_type": "heading",
     "level": 3,
     "metadata": {},
     "source": [
      "Determinants of triangular matrices"
     ]
    },
    {
     "cell_type": "markdown",
     "metadata": {},
     "source": [
      "Another convenient property of triangular matrices is that their determinants are just the products of their diagonal entries. This is easy to prove using the recursive determinant formula defined above. For a lower triangular matrix, just take the determinant across the top row. Only the first term is non-zero, so we have\n",
      "\n",
      "$$\n",
      "\\det(L) = l_{00}\\det(L_{00}).\n",
      "$$\n",
      "\n",
      "The minor $L_{00}$ is just another lower triangular matrix, so its determinant is\n",
      "\n",
      "$$\n",
      "\\det(L_{00}) = l_{11}\\det(L_{00_{00}}),\n",
      "$$\n",
      "\n",
      "<p class = \"hangpar\">giving us</p>\n",
      "$$\n",
      "\\det(L) = l_{00}\\cdot l_{11}\\det(L_{00_{00}}).\n",
      "$$\n",
      "\n",
      "We can imagine proceding down this route, substituting minors, until all that remains is the product $\\det(L) = l_{00}\\cdot l_{11}\\cdots l_{n-1,n-1}\\,.$\n",
      "\n",
      "The process is the same for an upper triangular matrix. If we take the determinant down the first column, we'll find each subsequent minor matrix in the recursion is also an upper triangular matrix, so it&#8217;s determinant is also just the product of its diagonals, $u_{00}\\cdot u_{11}\\cdots u_{n-1, n-1}$.\n",
      "\n",
      "The implication of this is that a triangular matrix is non-singular or invertible so long as none of its diagonal elements are zero. This makes intuitive sense if you imagine proceeding through each step of forward or backward substitution&#8212;a zero on the diagonal would break the chain of sequential subsitutions."
     ]
    },
    {
     "cell_type": "code",
     "collapsed": false,
     "input": [
      "%%cython -lm\n",
      "import cython\n",
      "import numpy as np\n",
      "cimport numpy as np\n",
      "from libc.math cimport fabs\n",
      "\n",
      "@cython.boundscheck(False)\n",
      "@cython.wraparound(False)\n",
      "@cython.cdivision(True)\n",
      "cpdef np.ndarray[double, ndim=1] forward_sub_solve(\n",
      "    np.ndarray[double, ndim=2] L, \n",
      "    np.ndarray[double, ndim=1] b):\n",
      "    \n",
      "    assert L.shape[1] == b.shape[0], \\\n",
      "        'Matrix and vector are incompatible shapes.'\n",
      "    assert fabs(L[0, 0]) >= 10e-16, \\\n",
      "        'Zero element on diagonal.'\n",
      "    \n",
      "    # No. of variables to solve\n",
      "    cdef int n = b.shape[0]\n",
      "    \n",
      "    # Loop indices\n",
      "    cdef int i, k\n",
      "        \n",
      "    # Initialize the solution vector\n",
      "    cdef np.ndarray[double, ndim=1] y = np.zeros(b.shape[0])\n",
      "    y[0] = b[0] / L[0,0] \n",
      "\n",
      "    cdef double sum_term = 0.0\n",
      "    for i in xrange(1, n):\n",
      "        if fabs(L[i, i]) <= 10e-16:\n",
      "            raise ValueError('Zero element on diagonal.')\n",
      "        sum_term = 0.0\n",
      "        for k in xrange(0, i):\n",
      "            sum_term += L[i, k] * y[k]\n",
      "        y[i] = (b[i] - sum_term) / L[i, i]\n",
      "        \n",
      "    return y\n",
      "\n",
      "cpdef np.ndarray[double, ndim=2] backward_sub_solve(\n",
      "    np.ndarray[double, ndim=2] U,\n",
      "    np.ndarray[double, ndim=1] b):\n",
      "    \n",
      "    assert U.shape[1] == b.shape[0], \\\n",
      "        'Matrix and vector are incompatible shapes.'\n",
      "    assert fabs(U[0, 0]) >= 10e-16, \\\n",
      "        'Zero element on diagonal.'\n",
      "    \n",
      "    # No. of variables to solve\n",
      "    cdef int n = b.shape[0]\n",
      "    \n",
      "    # Loop indices\n",
      "    cdef int i, k\n",
      "        \n",
      "    # Initialize the solution vector\n",
      "    cdef np.ndarray[double, ndim=1] y = np.zeros(b.shape[0])\n",
      "    y[n-1] = b[n-1] / U[n-1, n-1] \n",
      "\n",
      "    cdef double sum_term = 0.0\n",
      "    for i in xrange(n-2, -1, -1):\n",
      "        if fabs(U[i, i]) <= 10e-16:\n",
      "            raise ValueError('Zero element on diagonal.')\n",
      "        sum_term = 0.0\n",
      "        for k in xrange(i+1, n):\n",
      "            sum_term += U[i, k] * y[k]\n",
      "        y[i] = (b[i] - sum_term) / U[i,i]\n",
      "    \n",
      "    return y"
     ],
     "language": "python",
     "metadata": {},
     "outputs": [],
     "prompt_number": 185
    },
    {
     "cell_type": "code",
     "collapsed": false,
     "input": [
      "# L is 3x3 lower-triangular\n",
      "L = np.array([[  2,  0, 0],\n",
      "             [1.5,  -3, 0],\n",
      "             [ -5, 0.5, 4]])\n",
      "\n",
      "# U is 3x3 upper-triangular\n",
      "U = np.array([[ -1,    3,  -5],\n",
      "              [  0, -0.5,   2],\n",
      "              [  0,    0, 1.5]])\n",
      "\n",
      "b = np.array([-1., 5., 3.])\n",
      "\n",
      "print 'Cython (forward):', forward_sub_solve(L, b)\n",
      "print 'Numpy (forward): ', np.linalg.solve(L, b)\n",
      "\n",
      "print 'Cython (backward):', backward_sub_solve(U, b)\n",
      "print 'Numpy (backward): ', np.linalg.solve(U, b)\n"
     ],
     "language": "python",
     "metadata": {},
     "outputs": [
      {
       "output_type": "stream",
       "stream": "stdout",
       "text": [
        "Cython (forward): [-0.5        -1.91666667  0.36458333]\n",
        "Numpy (forward):  [-0.5        -1.91666667  0.36458333]\n",
        "Cython (backward): [-15.  -2.   2.]\n",
        "Numpy (backward):  [-15.  -2.   2.]\n"
       ]
      }
     ],
     "prompt_number": 191
    },
    {
     "cell_type": "code",
     "collapsed": false,
     "input": [
      "%%cython -lm\n",
      "import cython\n",
      "import numpy as np\n",
      "cimport numpy as np\n",
      "from libc.math cimport abs, fabs\n",
      "\n",
      "cpdef lup_decomp(np.ndarray[double, ndim=2] A):\n",
      "    assert A.shape[0] == A.shape[1], 'Not a square matrix.'\n",
      "    \n",
      "    cdef:\n",
      "        int n = A.shape[0]\n",
      "        int i_piv, k, j, h\n",
      "        np.ndarray[double, ndim=2] U = A.copy()\n",
      "        np.ndarray[double, ndim=2] P = np.eye(n)\n",
      "        np.ndarray[double, ndim=2] L = np.eye(n)\n",
      "        \n",
      "    for k in xrange(n-1):\n",
      "        # Find the pivot row and permut matrices\n",
      "        i_piv = get_pivot(U, k)\n",
      "        swap_rows(U, k, i_piv, k)\n",
      "        swap_rows(P, k, i_piv) \n",
      "        if k > 0:\n",
      "            swap_rows(L, i_piv, k, col_end = k)\n",
      "           \n",
      "        # Gaussian eliminate sub-diagonal elements of U.\n",
      "        for j in xrange(k+1, n):\n",
      "            L[j, k] = U[j, k] / U[k, k]\n",
      "            for h in xrange(k, n):\n",
      "                U[j, h] -=  U[k, h]  * L[j, k]              \n",
      "    return (L, U, P)\n",
      "    \n",
      "    \n",
      "cpdef int get_pivot(U, k):\n",
      "    cdef:\n",
      "        int j\n",
      "        int n = U.shape[0]\n",
      "        int i_piv = k\n",
      "\n",
      "    for j in xrange(k + 1, n):\n",
      "        if abs(U[j, k]) > abs(U[i_piv, k]):\n",
      "            i_piv = j\n",
      "    return i_piv\n",
      "           \n",
      "def swap_rows(M, row1, row2, col_start = 0, col_end = None):\n",
      "    col_end = col_end or M.shape[1] \n",
      "    first = M[row1, col_start:col_end].copy()\n",
      "    second = M[row2, col_start:col_end].copy()\n",
      "    \n",
      "    M[row1, col_start:col_end] = second\n",
      "    M[row2, col_start:col_end] = first\n",
      "    \n",
      "    \n",
      "cpdef np.ndarray[double, ndim=1] lup_solve(\n",
      "    np.ndarray[double, ndim=2] A,\n",
      "    np.ndarray[double, ndim=1] b):\n",
      "    \n",
      "    cdef:\n",
      "        np.ndarray[double, ndim=2] L, U, P\n",
      "        np.ndarray[double, ndim=1] x, y, b_permute\n",
      "        \n",
      "    L, U, P = lup_decomp(A)\n",
      "    \n",
      "    b_permute = matvecmult(P, b)\n",
      "    y = forward_sub_solve(L, b_permute)\n",
      "    x = backward_sub_solve(U, y)\n",
      "    \n",
      "    return x\n",
      "\n",
      "@cython.boundscheck(False)\n",
      "@cython.wraparound(False)\n",
      "@cython.cdivision(True)\n",
      "cpdef np.ndarray[double, ndim=1] forward_sub_solve(\n",
      "    np.ndarray[double, ndim=2] L, \n",
      "    np.ndarray[double, ndim=1] b):\n",
      "    \n",
      "    assert L.shape[1] == b.shape[0], \\\n",
      "        'Matrix and vector are incompatible shapes.'\n",
      "    assert fabs(L[0, 0]) >= 10e-16, \\\n",
      "        'Zero element on diagonal.'\n",
      "    \n",
      "    # No. of variables to solve\n",
      "    cdef int n = b.shape[0]\n",
      "    \n",
      "    # Loop indices\n",
      "    cdef int i, k\n",
      "        \n",
      "    # Initialize the solution vector\n",
      "    cdef np.ndarray[double, ndim=1] y = np.zeros(b.shape[0])\n",
      "    y[0] = b[0] / L[0,0] \n",
      "\n",
      "    cdef double sum_term = 0.0\n",
      "    for i in xrange(1, n):\n",
      "        if fabs(L[i, i]) <= 10e-16:\n",
      "            raise ValueError('Zero element on diagonal.')\n",
      "        sum_term = 0.0\n",
      "        for k in xrange(0, i):\n",
      "            sum_term += L[i, k] * y[k]\n",
      "        y[i] = (b[i] - sum_term) / L[i, i]\n",
      "        \n",
      "    return y\n",
      "\n",
      "cpdef np.ndarray[double, ndim=2] backward_sub_solve(\n",
      "    np.ndarray[double, ndim=2] U,\n",
      "    np.ndarray[double, ndim=1] b):\n",
      "    \n",
      "    assert U.shape[1] == b.shape[0], \\\n",
      "        'Matrix and vector are incompatible shapes.'\n",
      "    assert fabs(U[0, 0]) >= 10e-16, \\\n",
      "        'Zero element on diagonal.'\n",
      "    \n",
      "    # No. of variables to solve\n",
      "    cdef int n = b.shape[0]\n",
      "    \n",
      "    # Loop indices\n",
      "    cdef int i, k\n",
      "        \n",
      "    # Initialize the solution vector\n",
      "    cdef np.ndarray[double, ndim=1] y = np.zeros(b.shape[0])\n",
      "    y[n-1] = b[n-1] / U[n-1, n-1] \n",
      "\n",
      "    cdef double sum_term = 0.0\n",
      "    for i in xrange(n-2, -1, -1):\n",
      "        if fabs(U[i, i]) <= 10e-16:\n",
      "            raise ValueError('Zero element on diagonal.')\n",
      "        sum_term = 0.0\n",
      "        for k in xrange(i+1, n):\n",
      "            sum_term += U[i, k] * y[k]\n",
      "        y[i] = (b[i] - sum_term) / U[i,i]\n",
      "    \n",
      "    return y\n",
      "\n",
      "@cython.boundscheck(False)\n",
      "@cython.wraparound(False)\n",
      "cpdef np.ndarray[double, ndim=1] matvecmult(\n",
      "    np.ndarray[double, ndim=2] A,\n",
      "    np.ndarray[double, ndim=1] b):\n",
      "    \n",
      "    cdef: \n",
      "        Py_ssize_t i, j, k\n",
      "        Py_ssize_t A_n = A.shape[0]\n",
      "        Py_ssize_t A_m = A.shape[1]\n",
      "        Py_ssize_t b_n = b.shape[0]\n",
      "        np.ndarray[double, ndim=1] c\n",
      "    \n",
      "    # Are matrices conformable?\n",
      "    assert A_m == b_n, \\\n",
      "        'Non-conformable shapes.'\n",
      "    \n",
      "    # Initialize the results matrix.\n",
      "    c = np.zeros(A_n)\n",
      "    for i in xrange(A_n):\n",
      "            for k in xrange(b_n):\n",
      "                c[i] += A[i, k] * b[k]\n",
      "    return c\n"
     ],
     "language": "python",
     "metadata": {},
     "outputs": [],
     "prompt_number": 410
    },
    {
     "cell_type": "code",
     "collapsed": false,
     "input": [
      "A = np.array([[1., -2, 2], [4, 1, 3], [-2, 3, 1]])\n",
      "b = np.array([-10, 4., .25])"
     ],
     "language": "python",
     "metadata": {},
     "outputs": [],
     "prompt_number": 420
    },
    {
     "cell_type": "code",
     "collapsed": false,
     "input": [
      "%timeit lup_solve(A, b)"
     ],
     "language": "python",
     "metadata": {},
     "outputs": [
      {
       "output_type": "stream",
       "stream": "stdout",
       "text": [
        "10000 loops, best of 3: 65.3 \u00b5s per loop\n"
       ]
      }
     ],
     "prompt_number": 418
    },
    {
     "cell_type": "code",
     "collapsed": false,
     "input": [
      "M = np.random.randn(1e6).reshape((1000, 1000))\n",
      "c = np.random.randn(1000).reshape((1000,))"
     ],
     "language": "python",
     "metadata": {},
     "outputs": [],
     "prompt_number": 423
    },
    {
     "cell_type": "code",
     "collapsed": false,
     "input": [
      "%timeit np.linalg.solve(M, c)"
     ],
     "language": "python",
     "metadata": {},
     "outputs": [
      {
       "output_type": "stream",
       "stream": "stdout",
       "text": [
        "10 loops, best of 3: 31.9 ms per loop\n"
       ]
      }
     ],
     "prompt_number": 424
    },
    {
     "cell_type": "code",
     "collapsed": false,
     "input": [
      "%timeit lup_solve(M, c)"
     ],
     "language": "python",
     "metadata": {},
     "outputs": [
      {
       "output_type": "stream",
       "stream": "stdout",
       "text": [
        "1 loops, best of 3: 3.36 s per loop\n"
       ]
      }
     ],
     "prompt_number": 425
    },
    {
     "cell_type": "code",
     "collapsed": false,
     "input": [
      "# Randomly generate a large sparse matrix\n",
      "n = 1000\n",
      "n_entries = int(0.1 * n)\n",
      "A = np.eye(n) * np.random.randn(n)\n",
      "off_diag_entries = np.random.randn(n_entries)\n",
      "i = 0\n",
      "while (i < n_entries):\n",
      "    fill_row = np.random.random_integers(0, n)\n",
      "    fill_col = np.random.random_integers(0, n)\n",
      "    if (fill_row == fill_col):\n",
      "        continue\n",
      "    else:\n",
      "        A[fill_row, fill_col] = off_diag_entries[i]\n",
      "        i += 1"
     ],
     "language": "python",
     "metadata": {},
     "outputs": [],
     "prompt_number": 29
    },
    {
     "cell_type": "code",
     "collapsed": false,
     "input": [
      "%%cython -lm\n",
      "import cython\n",
      "import numpy as np\n",
      "cimport numpy as np\n",
      "from libc.math cimport abs\n",
      "\n",
      "@cython.boundscheck(False)\n",
      "@cython.wraparound(False)\n",
      "@cython.cdivision(True)\n",
      "cpdef gauss_siedel_solve(double[:, ::1] A, double[::1] b,\n",
      "                         double tol = 10e-12, int max_iter = 100):\n",
      "    \n",
      "    assert A.shape[0] == A.shape[1], 'Matrix is not square.'\n",
      "    assert A.shape[1] == b.shape[0], \\\n",
      "        'Non-conformable matrix and vector.'\n",
      "    cdef:\n",
      "        int n = A.shape[0]\n",
      "        double[::1] x = np.ones(n)\n",
      "        int iter_i = 0\n",
      "        double tol_i = 10e12 # Large number to start.\n",
      "        double sum_term = 0.\n",
      "        double new_x_i\n",
      "        int i, j\n",
      "        \n",
      "    while (tol_i > tol):\n",
      "        tol_i = 0.\n",
      "        for i in xrange(n):\n",
      "            assert abs(A[i, i]) > 10e-16, 'Zero on diagonal detected.'\n",
      "            sum_term = 0.\n",
      "            for j in xrange(n):\n",
      "                if j != i:\n",
      "                    sum_term += A[i, j] * x[j]\n",
      "            new_x_i = (b[i] - sum_term) / A[i, i]\n",
      "            tol_i += abs(new_x_i - x[i])\n",
      "            x[i] = new_x_i\n",
      "\n",
      "        iter_i += 1\n",
      "        if iter_i > max_iter:\n",
      "            print 'Max iterations, solution may not have converged'\n",
      "            break\n",
      "        \n",
      "    return (np.asarray(x), iter_i, tol_i)"
     ],
     "language": "python",
     "metadata": {},
     "outputs": [],
     "prompt_number": 35
    },
    {
     "cell_type": "code",
     "collapsed": false,
     "input": [
      "b = np.random.randn(1000)"
     ],
     "language": "python",
     "metadata": {},
     "outputs": [],
     "prompt_number": 41
    },
    {
     "cell_type": "code",
     "collapsed": false,
     "input": [
      "y_np = np.linalg.solve(A, b)\n",
      "y_gs, iter, tol = gauss_siedel_solve(A, b)\n",
      "print 'Sum abs. difference:', np.abs(y_np - y_gs).sum()"
     ],
     "language": "python",
     "metadata": {},
     "outputs": [
      {
       "output_type": "stream",
       "stream": "stdout",
       "text": [
        "Sum abs. difference: 1.78892057418e-13\n"
       ]
      }
     ],
     "prompt_number": 49
    },
    {
     "cell_type": "code",
     "collapsed": false,
     "input": [
      "print 'Numpy solve:'\n",
      "%timeit np.linalg.solve(A, b)\n",
      "print 'Gauss-Siedel:'\n",
      "%timeit gauss_siedel_solve(A, b)"
     ],
     "language": "python",
     "metadata": {},
     "outputs": [
      {
       "output_type": "stream",
       "stream": "stdout",
       "text": [
        "Numpy solve:\n",
        "10 loops, best of 3: 29.6 ms per loop"
       ]
      },
      {
       "output_type": "stream",
       "stream": "stdout",
       "text": [
        "\n",
        "Gauss-Siedel:\n",
        "100 loops, best of 3: 4.58 ms per loop"
       ]
      },
      {
       "output_type": "stream",
       "stream": "stdout",
       "text": [
        "\n"
       ]
      }
     ],
     "prompt_number": 50
    },
    {
     "cell_type": "code",
     "collapsed": false,
     "input": [
      "%%cython -lgsl -lm\n",
      "import cython\n",
      "\n",
      "cdef extern from \"gsl/gsl_sf_bessel.h\":\n",
      "    double gsl_sf_bessel_J0(double x)\n",
      "    \n",
      "cpdef double bessel(double x):\n",
      "    return gsl_sf_bessel_J0(x)\n"
     ],
     "language": "python",
     "metadata": {},
     "outputs": [],
     "prompt_number": 54
    },
    {
     "cell_type": "code",
     "collapsed": false,
     "input": [
      "bessel(10.)"
     ],
     "language": "python",
     "metadata": {},
     "outputs": [
      {
       "output_type": "pyout",
       "prompt_number": 55,
       "text": [
        "-0.24593576445134838"
       ]
      }
     ],
     "prompt_number": 55
    },
    {
     "cell_type": "code",
     "collapsed": false,
     "input": [
      "%%cython -lgsl -lm\n",
      "import cython\n",
      "import numpy as np\n",
      "cimport numpy as np\n",
      "from libc.stdlib cimport malloc, realloc, free\n",
      "\n",
      "cdef extern from \"gsl/gsl_rng.h\":\n",
      "    ctypedef struct gsl_rng_type:\n",
      "        pass\n",
      "   \n",
      "    ctypedef struct gsl_rng:\n",
      "        pass\n",
      "    gsl_rng_type* gsl_rng_mt19937\n",
      "    gsl_rng* gsl_rng_alloc(gsl_rng_type* T)\n",
      "  \n",
      "cdef extern from 'gsl/gsl_randist.h':\n",
      "    double gsl_ran_gaussian(gsl_rng* r, double)\n",
      "\n",
      "cdef gsl_rng* r = gsl_rng_alloc(gsl_rng_mt19937)  \n",
      "\n",
      "def gaussian():\n",
      "    return gsl_ran_gaussian(r, 1.0)\n",
      "    \n",
      "@cython.boundscheck(False)\n",
      "@cython.wraparound(False)\n",
      "cpdef randnorm(int n):\n",
      "    # Generate a random normal\n",
      "\n",
      "    cdef int i\n",
      "    #cdef double[::1] x = np.empty(n)\n",
      "    cdef double* x = <double*>malloc(n * sizeof(double*))\n",
      "    for i in xrange(n):\n",
      "        x[i] = gsl_ran_gaussian(r, 1.0)\n",
      "    \n",
      "    free(x)\n",
      "    \n"
     ],
     "language": "python",
     "metadata": {},
     "outputs": [],
     "prompt_number": 106
    },
    {
     "cell_type": "code",
     "collapsed": false,
     "input": [
      "%timeit x = gaussian()"
     ],
     "language": "python",
     "metadata": {},
     "outputs": [
      {
       "output_type": "stream",
       "stream": "stdout",
       "text": [
        "10000000 loops, best of 3: 114 ns per loop\n"
       ]
      }
     ],
     "prompt_number": 107
    },
    {
     "cell_type": "code",
     "collapsed": false,
     "input": [
      "%timeit x = np.random.randn(1)"
     ],
     "language": "python",
     "metadata": {},
     "outputs": [
      {
       "output_type": "stream",
       "stream": "stdout",
       "text": [
        "1000000 loops, best of 3: 1.17 \u00b5s per loop\n"
       ]
      }
     ],
     "prompt_number": 105
    },
    {
     "cell_type": "code",
     "collapsed": false,
     "input": [
      "plt.hist(x)"
     ],
     "language": "python",
     "metadata": {},
     "outputs": [
      {
       "output_type": "pyout",
       "prompt_number": 80,
       "text": [
        "(array([ 21,  38, 117, 208, 250, 191, 112,  45,  15,   3]),\n",
        " array([-2.68636651, -2.08388687, -1.48140723, -0.87892759, -0.27644796,\n",
        "        0.32603168,  0.92851132,  1.53099095,  2.13347059,  2.73595023,\n",
        "        3.33842987]),\n",
        " <a list of 10 Patch objects>)"
       ]
      },
      {
       "output_type": "display_data",
       "png": "[encoded data removed]",
       "text": [
        "<matplotlib.figure.Figure at 0x1084ea910>"
       ]
      }
     ],
     "prompt_number": 80
    },
    {
     "cell_type": "code",
     "collapsed": false,
     "input": [],
     "language": "python",
     "metadata": {},
     "outputs": []
    }
   ],
   "metadata": {}
  }
 ]
}